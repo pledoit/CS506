{
 "cells": [
  {
   "attachments": {},
   "cell_type": "markdown",
   "metadata": {},
   "source": [
    "# Worksheet 02\n",
    "\n",
    "Name:  Phil Ledoit  \n",
    "UID: U15261816\n",
    "\n",
    "### Topics\n",
    "\n",
    "- Effective Programming\n",
    "\n",
    "### Effective Programming\n",
    "\n",
    "a) What is a drawback of the top down approach?"
   ]
  },
  {
   "cell_type": "markdown",
   "metadata": {},
   "source": [
    "If there are too many dependencies between the low-level elements, the system might crumble under its own complexity if each puzzle piece isn't individually tested properly."
   ]
  },
  {
   "cell_type": "markdown",
   "metadata": {},
   "source": [
    "b) What is a drawback of the bottom up approach?"
   ]
  },
  {
   "cell_type": "markdown",
   "metadata": {},
   "source": [
    "Starting with many detailed pieces without a firm grasp of the big picture might lead to the pieces not fitting together properly, leading to inefficiency and unnecessary extra coding to fix their interdependencies."
   ]
  },
  {
   "cell_type": "markdown",
   "metadata": {},
   "source": [
    "c) What are 3 things you can do to have a better debugging experience?"
   ]
  },
  {
   "cell_type": "markdown",
   "metadata": {},
   "source": [
    "1. Be clear about the big picture (use pseudocode if necessary) before starting to code.\n",
    "2. Understand why the bug happened and learn from it to avoid repeating that mistake in the future.\n",
    "3. Test incrementally to ensure bugs are caught as early as possible and don't snowball into bigger, wider-spanning code liabilities."
   ]
  },
  {
   "cell_type": "code",
   "execution_count": null,
   "metadata": {},
   "outputs": [],
   "source": []
  },
  {
   "attachments": {},
   "cell_type": "markdown",
   "metadata": {},
   "source": [
    "d) Follow along with the live coding. You can write your code here:"
   ]
  },
  {
   "cell_type": "code",
   "execution_count": null,
   "metadata": {},
   "outputs": [],
   "source": [
    "class Solution:\n",
    "    def solveNQueens(self, n: int) -> List[List[str]]:\n",
    "\n",
    "        ret = []\n",
    "        cols, diags1, diags2 = {}, {}, {}\n",
    "\n",
    "        def backtrack(row, acc):\n",
    "\n",
    "            if row == n:\n",
    "                ret.append(list(acc))\n",
    "                return\n",
    "\n",
    "            for col in range(n):\n",
    "                diag1 = row - col\n",
    "                diag2 = row + col\n",
    "                if col not in cols and diag1 not in diags1 and diag2 not in diags2:\n",
    "                    cols[col] = 1\n",
    "                    diags1[diag1] = 1\n",
    "                    diags2[diag2] = 1\n",
    "                    acc[row] = str(acc[row][:col]) + \"Q\" + str(acc[row][col+1:]) if col < n-1 else str(acc[row][:col]) + \"Q\"\n",
    "                    backtrack(row + 1, acc)\n",
    "                    acc[row] = acc[row].replace(\"Q\", \".\")\n",
    "                    del cols[col]\n",
    "                    del diags1[diag1]\n",
    "                    del diags2[diag2]\n",
    "            return\n",
    "        \n",
    "        backtrack(0, [\"\".join([\".\" for _ in range(n)]) for _ in range(n)])\n",
    "        return ret"
   ]
  }
 ],
 "metadata": {
  "kernelspec": {
   "display_name": "Python 3",
   "language": "python",
   "name": "python3"
  },
  "language_info": {
   "name": "python",
   "version": "3.11.1 (main, Dec  7 2022, 00:00:00) [GCC 12.2.1 20221121 (Red Hat 12.2.1-4)]"
  },
  "orig_nbformat": 4,
  "vscode": {
   "interpreter": {
    "hash": "76ca05dc3ea24b2e3b98cdb7774adfbb40773424bf5109b477fd793f623715af"
   }
  }
 },
 "nbformat": 4,
 "nbformat_minor": 2
}
